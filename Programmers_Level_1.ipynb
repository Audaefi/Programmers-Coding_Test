{
  "nbformat": 4,
  "nbformat_minor": 0,
  "metadata": {
    "colab": {
      "provenance": []
    },
    "kernelspec": {
      "name": "python3",
      "display_name": "Python 3"
    },
    "language_info": {
      "name": "python"
    }
  },
  "cells": [
    {
      "cell_type": "markdown",
      "source": [
        "Description : \n",
        "정수 num이 짝수일 경우 \"Even\"을 반환하고 홀수인 경우 \"Odd\"를 반환하는 함수, solution을 완성해주세요.\n",
        "\n",
        "제한 조건 : \n",
        "num은 int 범위의 정수입니다.\n",
        "0은 짝수입니다.\n"
      ],
      "metadata": {
        "id": "nA4DVVp_RAiy"
      }
    },
    {
      "cell_type": "code",
      "execution_count": null,
      "metadata": {
        "id": "CCORUfm-Qwgh"
      },
      "outputs": [],
      "source": [
        "def solution(num):\n",
        "    if num % 2:\n",
        "        return \"Odd\"\n",
        "    else:\n",
        "        return \"Even\""
      ]
    },
    {
      "cell_type": "markdown",
      "source": [
        "Description : \n",
        "정수 n을 입력받아 n의 약수를 모두 더한 값을 리턴하는 함수, solution을 완성해주세요.\n",
        "\n",
        "제한 사항 : \n",
        "n은 0 이상 3000이하인 정수입니다."
      ],
      "metadata": {
        "id": "EF7YkuCCRMo2"
      }
    },
    {
      "cell_type": "code",
      "source": [
        "def solution(n):\n",
        "    return sum([i for i in range(1, n+1) if (n % i) == 0])"
      ],
      "metadata": {
        "id": "omnaWOKQRQ4L"
      },
      "execution_count": null,
      "outputs": []
    },
    {
      "cell_type": "markdown",
      "source": [],
      "metadata": {
        "id": "MMsCUU2pRSs8"
      }
    }
  ]
}