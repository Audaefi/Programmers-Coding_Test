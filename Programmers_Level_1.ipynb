{
  "nbformat": 4,
  "nbformat_minor": 0,
  "metadata": {
    "colab": {
      "provenance": [],
      "collapsed_sections": []
    },
    "kernelspec": {
      "name": "python3",
      "display_name": "Python 3"
    },
    "language_info": {
      "name": "python"
    }
  },
  "cells": [
    {
      "cell_type": "markdown",
      "source": [
        "Description : \n",
        "정수 num이 짝수일 경우 \"Even\"을 반환하고 홀수인 경우 \"Odd\"를 반환하는 함수, solution을 완성해주세요.\n",
        "\n",
        "제한 조건 : \n",
        "num은 int 범위의 정수입니다.\n",
        "0은 짝수입니다.\n"
      ],
      "metadata": {
        "id": "nA4DVVp_RAiy"
      }
    },
    {
      "cell_type": "code",
      "execution_count": null,
      "metadata": {
        "id": "CCORUfm-Qwgh"
      },
      "outputs": [],
      "source": [
        "def solution(num):\n",
        "    if num % 2:\n",
        "        return \"Odd\"\n",
        "    else:\n",
        "        return \"Even\""
      ]
    },
    {
      "cell_type": "markdown",
      "source": [
        "Description : \n",
        "정수 n을 입력받아 n의 약수를 모두 더한 값을 리턴하는 함수, solution을 완성해주세요.\n",
        "\n",
        "제한 사항 : \n",
        "n은 0 이상 3000이하인 정수입니다."
      ],
      "metadata": {
        "id": "EF7YkuCCRMo2"
      }
    },
    {
      "cell_type": "code",
      "source": [
        "def solution(n):\n",
        "    return sum([i for i in range(1, n+1) if (n % i) == 0])"
      ],
      "metadata": {
        "id": "omnaWOKQRQ4L"
      },
      "execution_count": null,
      "outputs": []
    },
    {
      "cell_type": "markdown",
      "source": [
        "Description : \n",
        "정수를 담고 있는 배열 arr의 평균값을 return하는 함수, solution을 완성해보세요.\n",
        "\n",
        "제한사항 : \n",
        "arr은 길이 1 이상, 100 이하인 배열입니다.\n",
        "arr의 원소는 -10,000 이상 10,000 이하인 정수입니다."
      ],
      "metadata": {
        "id": "MMsCUU2pRSs8"
      }
    },
    {
      "cell_type": "code",
      "source": [
        "def solution(arr):\n",
        "    return sum(arr)/len(arr)"
      ],
      "metadata": {
        "id": "B96FHjXoR8VU"
      },
      "execution_count": null,
      "outputs": []
    },
    {
      "cell_type": "markdown",
      "source": [
        "Description : \n",
        "Given a natural number N as the parameter, write a function solution to return the sum of each digit of N.\n",
        "For example, if N = 123, return 1 + 2 + 3 = 6.\n",
        "\n",
        "Constraints : \n",
        "Range of N : natural number less than or equal to 100,000,000."
      ],
      "metadata": {
        "id": "niIoNip-R7no"
      }
    },
    {
      "cell_type": "code",
      "source": [
        "def solution(n):\n",
        "    return sum(list(map(int, str(n))))"
      ],
      "metadata": {
        "id": "9iuyATArSAwf"
      },
      "execution_count": null,
      "outputs": []
    },
    {
      "cell_type": "markdown",
      "source": [
        "Description : \n",
        "임의의 양의 정수 n에 대해, n이 어떤 양의 정수 x의 제곱인지 아닌지 판단하려 합니다.\n",
        "n이 양의 정수 x의 제곱이라면 x+1의 제곱을 리턴하고, n이 양의 정수 x의 제곱이 아니라면 -1을 리턴하는 함수를 완성하세요.\n",
        "\n",
        "제한 사항 : \n",
        "n은 1이상, 50000000000000 이하인 양의 정수입니다.\n"
      ],
      "metadata": {
        "id": "9pVj-uu1SCIj"
      }
    },
    {
      "cell_type": "code",
      "source": [
        "def solution(n):\n",
        "    sqrt = n ** (1/2)\n",
        "    if n % sqrt == 0:  \n",
        "        return (sqrt+1) ** 2 \n",
        "    return -1"
      ],
      "metadata": {
        "id": "RS_-FhsJSHS6"
      },
      "execution_count": null,
      "outputs": []
    },
    {
      "cell_type": "markdown",
      "source": [
        "Description : \n",
        "자연수 n을 뒤집어 각 자리 숫자를 원소로 가지는 배열 형태로 리턴해주세요. 예를들어 n이 12345이면 [5,4,3,2,1]을 리턴합니다.\n",
        "\n",
        "제한 조건 : \n",
        "n은 10,000,000,000이하인 자연수입니다.\n"
      ],
      "metadata": {
        "id": "VyOkw-umSIer"
      }
    },
    {
      "cell_type": "code",
      "source": [
        "def solution(n):\n",
        "    return list(map(int, reversed(str(n))))"
      ],
      "metadata": {
        "id": "Wby_YeFfSLqX"
      },
      "execution_count": null,
      "outputs": []
    },
    {
      "cell_type": "markdown",
      "source": [
        "\n",
        "Description : \n",
        "Suppose that a string s consisting of both lower-case and upper-case letters are given. Write a function \"solution\" to return True when the number of 'p' and 'y' in s are the same, and return False otherwise. Note that when there is neither 'p' nor 'y', it should always return True. Also, when comparing the number of 'p' and 'y', lower-case and upper-case are not distinguished.\n",
        "\n",
        "For example, if s is \"pPoooyY\", then return true. In the case of \"Pyy\", return false.\n",
        "\n",
        "Constraints : \n",
        "Length of string s : natural number less than 50.\n",
        "String s consists of letters only."
      ],
      "metadata": {
        "id": "ZzxrpJewSLEB"
      }
    },
    {
      "cell_type": "code",
      "source": [
        "def solution(s):\n",
        "    return s.lower().count('p') == s.lower().count('y')"
      ],
      "metadata": {
        "id": "L9ewHYRpSTpn"
      },
      "execution_count": null,
      "outputs": []
    },
    {
      "cell_type": "markdown",
      "source": [
        "Description : \n",
        "Suppose that a string s consisting of both lower-case and upper-case letters are given. Write a function \"solution\" to return True when the number of 'p' and 'y' in s are the same, and return False otherwise. Note that when there is neither 'p' nor 'y', it should always return True. Also, when comparing the number of 'p' and 'y', lower-case and upper-case are not distinguished.\n",
        "\n",
        "For example, if s is \"pPoooyY\", then return true. In the case of \"Pyy\", return false.\n",
        "\n",
        "Constraints : \n",
        "Length of string s : natural number less than 50.\n",
        "String s consists of letters only."
      ],
      "metadata": {
        "id": "NMsSagiXSUPk"
      }
    },
    {
      "cell_type": "code",
      "source": [
        "def solution(s):\n",
        "    return s.lower().count('p') == s.lower().count('y')"
      ],
      "metadata": {
        "id": "ZnfeOurSSqTD"
      },
      "execution_count": null,
      "outputs": []
    },
    {
      "cell_type": "markdown",
      "source": [
        "Description : \n",
        "함수 solution은 정수 n을 매개변수로 입력받습니다. n의 각 자릿수를 큰것부터 작은 순으로 정렬한 새로운 정수를 리턴해주세요. 예를들어 n이 118372면 873211을 리턴하면 됩니다.\n",
        "\n",
        "제한 조건 : \n",
        "n은 1이상 8000000000 이하인 자연수입니다."
      ],
      "metadata": {
        "id": "b3HbkQm7Ss9g"
      }
    },
    {
      "cell_type": "code",
      "source": [
        "def solution(n):\n",
        "    n = list(str(n))\n",
        "    n.sort(reverse=True)\n",
        "    return int(\"\".join(n))"
      ],
      "metadata": {
        "id": "NMM-k_D5Swc0"
      },
      "execution_count": null,
      "outputs": []
    },
    {
      "cell_type": "markdown",
      "source": [
        "Description : \n",
        "문자열 s를 숫자로 변환한 결과를 반환하는 함수, solution을 완성하세요.\n",
        "\n",
        "제한 조건 : \n",
        "s의 길이는 1 이상 5이하입니다.\n",
        "s의 맨앞에는 부호(+, -)가 올 수 있습니다.\n",
        "s는 부호와 숫자로만 이루어져있습니다.\n",
        "s는 \"0\"으로 시작하지 않습니다.\n",
        "입출력 예\n",
        "예를들어 str이 \"1234\"이면 1234를 반환하고, \"-1234\"이면 -1234를 반환하면 됩니다.\n",
        "str은 부호(+,-)와 숫자로만 구성되어 있고, 잘못된 값이 입력되는 경우는 없습니다."
      ],
      "metadata": {
        "id": "tBf8V9evSxzS"
      }
    },
    {
      "cell_type": "code",
      "source": [
        "def solution(s):\n",
        "    return int(s)"
      ],
      "metadata": {
        "id": "-Np4W8SaS1r_"
      },
      "execution_count": null,
      "outputs": []
    },
    {
      "cell_type": "markdown",
      "source": [
        "Description : \n",
        "함수 solution은 정수 x와 자연수 n을 입력 받아, x부터 시작해 x씩 증가하는 숫자를 n개 지니는 리스트를 리턴해야 합니다. 다음 제한 조건을 보고, 조건을 만족하는 함수, solution을 완성해주세요.\n",
        "\n",
        "제한 조건 : \n",
        "x는 -10000000 이상, 10000000 이하인 정수입니다.\n",
        "n은 1000 이하인 자연수입니다."
      ],
      "metadata": {
        "id": "ZOlicV39S4KV"
      }
    },
    {
      "cell_type": "code",
      "source": [
        "def solution(x,n):\n",
        "    answer = list()\n",
        "    temp = 0\n",
        "    for i in range(n):\n",
        "        temp += x\n",
        "        answer.append(temp)\n",
        "    return answer\n",
        "        "
      ],
      "metadata": {
        "id": "WsUMJrJXTH4f"
      },
      "execution_count": null,
      "outputs": []
    },
    {
      "cell_type": "markdown",
      "source": [
        "Description : \n",
        "자연수 n이 매개변수로 주어집니다. n을 x로 나눈 나머지가 1이 되도록 하는 가장 작은 자연수 x를 return 하도록 solution 함수를 완성해주세요. 답이 항상 존재함은 증명될 수 있습니다.\n",
        "\n",
        "제한사항 : \n",
        "3 ≤ n ≤ 1,000,000"
      ],
      "metadata": {
        "id": "75COVFXYTInn"
      }
    },
    {
      "cell_type": "code",
      "source": [
        "def solution(n):\n",
        "    for i in range(1, n+1):\n",
        "        if n % i == 1:\n",
        "            return i"
      ],
      "metadata": {
        "id": "LZ1A6bi7TaZD"
      },
      "execution_count": null,
      "outputs": []
    },
    {
      "cell_type": "markdown",
      "source": [
        "Description : \n",
        "1937년 Collatz란 사람에 의해 제기된 이 추측은, 주어진 수가 1이 될 때까지 다음 작업을 반복하면, 모든 수를 1로 만들 수 있다는 추측입니다. 작업은 다음과 같습니다.\n",
        "\n",
        "1-1. 입력된 수가 짝수라면 2로 나눕니다. \n",
        "1-2. 입력된 수가 홀수라면 3을 곱하고 1을 더합니다. \n",
        "2. 결과로 나온 수에 같은 작업을 1이 될 때까지 반복합니다. \n",
        "예를 들어, 주어진 수가 6이라면 6 → 3 → 10 → 5 → 16 → 8 → 4 → 2 → 1 이 되어 총 8번 만에 1이 됩니다. 위 작업을 몇 번이나 반복해야 하는지 반환하는 함수, solution을 완성해 주세요. 단, 주어진 수가 1인 경우에는 0을, 작업을 500번 반복할 때까지 1이 되지 않는다면 –1을 반환해 주세요.\n",
        "\n",
        "제한 사항 : \n",
        "입력된 수, num은 1 이상 8,000,000 미만인 정수입니다."
      ],
      "metadata": {
        "id": "w5C3SbToTb3g"
      }
    },
    {
      "cell_type": "code",
      "source": [
        "def solution(num):\n",
        "    iter = 0\n",
        "    while num > 1:\n",
        "        num = num*3+1 if num % 2 else num/2\n",
        "        iter += 1\n",
        "    return iter if iter < 500 else -1\n",
        "        "
      ],
      "metadata": {
        "id": "81KhRTrIUWs6"
      },
      "execution_count": null,
      "outputs": []
    },
    {
      "cell_type": "markdown",
      "source": [
        "Description : \n",
        "두 정수 a, b가 주어졌을 때 a와 b 사이에 속한 모든 정수의 합을 리턴하는 함수, solution을 완성하세요.\n",
        "예를 들어 a = 3, b = 5인 경우, 3 + 4 + 5 = 12이므로 12를 리턴합니다.\n",
        "\n",
        "제한 조건 : \n",
        "a와 b가 같은 경우는 둘 중 아무 수나 리턴하세요.\n",
        "a와 b는 -10,000,000 이상 10,000,000 이하인 정수입니다.\n",
        "a와 b의 대소관계는 정해져있지 않습니다."
      ],
      "metadata": {
        "id": "plfD35OoUZM-"
      }
    },
    {
      "cell_type": "code",
      "source": [
        "def solution(a, b):\n",
        "    if a > b: a,b = b,a\n",
        "    return sum(range(a,b+1))\n",
        "     "
      ],
      "metadata": {
        "id": "RPXPHq7lUYGJ"
      },
      "execution_count": null,
      "outputs": []
    },
    {
      "cell_type": "markdown",
      "source": [
        "Description : \n",
        "String형 배열 seoul의 element중 \"Kim\"의 위치 x를 찾아, \"김서방은 x에 있다\"는 String을 반환하는 함수, solution을 완성하세요. seoul에 \"Kim\"은 오직 한 번만 나타나며 잘못된 값이 입력되는 경우는 없습니다.\n",
        "\n",
        "제한 사항 : \n",
        "seoul은 길이 1 이상, 1000 이하인 배열입니다.\n",
        "seoul의 원소는 길이 1 이상, 20 이하인 문자열입니다.\n",
        "\"Kim\"은 반드시 seoul 안에 포함되어 있습니다."
      ],
      "metadata": {
        "id": "doDgSCocVn86"
      }
    },
    {
      "cell_type": "code",
      "source": [
        "def solution(seoul):\n",
        "    return (f\"김서방은 {seoul.index('Kim')}에 있다\")"
      ],
      "metadata": {
        "id": "X7NMq94hVr5H"
      },
      "execution_count": null,
      "outputs": []
    },
    {
      "cell_type": "markdown",
      "source": [
        "Description : \n",
        "프로그래머스 모바일은 개인정보 보호를 위해 고지서를 보낼 때 고객들의 전화번호의 일부를 가립니다.\n",
        "전화번호가 문자열 phone_number로 주어졌을 때, 전화번호의 뒷 4자리를 제외한 나머지 숫자를 전부 *으로 가린 문자열을 리턴하는 함수, solution을 완성해주세요.\n",
        "\n",
        "제한 조건 : \n",
        "phone_number는 길이 4 이상, 20이하인 문자열입니다."
      ],
      "metadata": {
        "id": "Vw3R5x1gVtU8"
      }
    },
    {
      "cell_type": "code",
      "source": [
        "def solution(phone_number):\n",
        "    return \"*\"*len(phone_number[:-4]) + phone_number[-4:]"
      ],
      "metadata": {
        "id": "CunhcdcLVs3o"
      },
      "execution_count": null,
      "outputs": []
    },
    {
      "cell_type": "markdown",
      "source": [
        "Description : \n",
        "array의 각 element 중 divisor로 나누어 떨어지는 값을 오름차순으로 정렬한 배열을 반환하는 함수, solution을 작성해주세요.\n",
        "divisor로 나누어 떨어지는 element가 하나도 없다면 배열에 -1을 담아 반환하세요.\n",
        "\n",
        "제한사항 : \n",
        "arr은 자연수를 담은 배열입니다.\n",
        "정수 i, j에 대해 i ≠ j 이면 arr[i] ≠ arr[j] 입니다.\n",
        "divisor는 자연수입니다.\n",
        "array는 길이 1 이상인 배열입니다."
      ],
      "metadata": {
        "id": "Mnfzs2ZiV4Py"
      }
    },
    {
      "cell_type": "code",
      "source": [
        "def solution(arr, div):\n",
        "  return sorted([n for n in arr if n%div == 0]) or [-1]"
      ],
      "metadata": {
        "id": "iFTln1l3V7tX"
      },
      "execution_count": null,
      "outputs": []
    },
    {
      "cell_type": "markdown",
      "source": [
        "Description : \n",
        "정수를 저장한 배열, arr 에서 가장 작은 수를 제거한 배열을 리턴하는 함수, solution을 완성해주세요. 단, 리턴하려는 배열이 빈 배열인 경우엔 배열에 -1을 채워 리턴하세요. 예를들어 arr이 [4,3,2,1]인 경우는 [4,3,2]를 리턴 하고, [10]면 [-1]을 리턴 합니다.\n",
        "\n",
        "제한 조건 : \n",
        "arr은 길이 1 이상인 배열입니다.\n",
        "인덱스 i, j에 대해 i ≠ j이면 arr[i] ≠ arr[j] 입니다."
      ],
      "metadata": {
        "id": "SvU9zh8IV9Ra"
      }
    },
    {
      "cell_type": "code",
      "source": [
        "def solution(arr):\n",
        "    if len(arr) == 1:\n",
        "        return [-1]\n",
        "    else:\n",
        "        arr.remove(min(arr))\n",
        "        return arr"
      ],
      "metadata": {
        "id": "x2G8qjLDWIUu"
      },
      "execution_count": null,
      "outputs": []
    },
    {
      "cell_type": "markdown",
      "source": [
        "Description : \n",
        "어떤 정수들이 있습니다. 이 정수들의 절댓값을 차례대로 담은 정수 배열 absolutes와 이 정수들의 부호를 차례대로 담은 불리언 배열 signs가 매개변수로 주어집니다. 실제 정수들의 합을 구하여 return 하도록 solution 함수를 완성해주세요.\n",
        "\n",
        "제한사항 : \n",
        "absolutes의 길이는 1 이상 1,000 이하입니다.\n",
        "absolutes의 모든 수는 각각 1 이상 1,000 이하입니다.\n",
        "signs의 길이는 absolutes의 길이와 같습니다.\n",
        "signs[i] 가 참이면 absolutes[i] 의 실제 정수가 양수임을, 그렇지 않으면 음수임을 의미합니다."
      ],
      "metadata": {
        "id": "vK4ZXfQSWXPW"
      }
    },
    {
      "cell_type": "code",
      "source": [
        "def solution(absolutes, signs):\n",
        "    result = 0\n",
        "    for absolute, sign in zip(absolutes, signs):\n",
        "      if sign:\n",
        "        result += absolute\n",
        "      else:\n",
        "        result -= absolute\n",
        "    return result"
      ],
      "metadata": {
        "id": "WvJSbcZuWJbY"
      },
      "execution_count": null,
      "outputs": []
    },
    {
      "cell_type": "markdown",
      "source": [
        "Description : \n",
        "0부터 9까지의 숫자 중 일부가 들어있는 정수 배열 numbers가 매개변수로 주어집니다. numbers에서 찾을 수 없는 0부터 9까지의 숫자를 모두 찾아 더한 수를 return 하도록 solution 함수를 완성해주세요.\n",
        "\n",
        "제한사항 : \n",
        "1 ≤ numbers의 길이 ≤ 9\n",
        "0 ≤ numbers의 모든 원소 ≤ 9\n",
        "numbers의 모든 원소는 서로 다릅니다."
      ],
      "metadata": {
        "id": "KGvybjzjWZI3"
      }
    },
    {
      "cell_type": "code",
      "source": [
        "def solution(numbers):\n",
        "    return sum(range(10)) - sum(numbers)"
      ],
      "metadata": {
        "id": "9dNuUxQoWcbQ"
      },
      "execution_count": null,
      "outputs": []
    },
    {
      "cell_type": "markdown",
      "source": [
        "Description : \n",
        "길이가 n이고, \"수박수박수박수....\"와 같은 패턴을 유지하는 문자열을 리턴하는 함수, solution을 완성하세요. 예를들어 n이 4이면 \"수박수박\"을 리턴하고 3이라면 \"수박수\"를 리턴하면 됩니다.\n",
        "\n",
        "제한 조건 : \n",
        "n은 길이 10,000이하인 자연수입니다."
      ],
      "metadata": {
        "id": "kDsgZkQTWdbR"
      }
    },
    {
      "cell_type": "code",
      "source": [
        "def solution(n):\n",
        "    return ('수박'*n)[:n]"
      ],
      "metadata": {
        "id": "wJ0_905ZWgI5"
      },
      "execution_count": null,
      "outputs": []
    },
    {
      "cell_type": "markdown",
      "source": [
        "Description : \n",
        "단어 s의 가운데 글자를 반환하는 함수, solution을 만들어 보세요. 단어의 길이가 짝수라면 가운데 두글자를 반환하면 됩니다.\n",
        "\n",
        "재한사항 : \n",
        "s는 길이가 1 이상, 100이하인 스트링입니다."
      ],
      "metadata": {
        "id": "_b1o35EcWpdk"
      }
    },
    {
      "cell_type": "code",
      "source": [
        "def solution(s):\n",
        "  index = int(len(s)/2)\n",
        "  if len(s) % 2:\n",
        "    return s[index]\n",
        "  else:\n",
        "    return s[index-1:index+1]"
      ],
      "metadata": {
        "id": "CoBpvXL-XANZ"
      },
      "execution_count": null,
      "outputs": []
    },
    {
      "cell_type": "markdown",
      "source": [
        "Description : \n",
        "길이가 같은 두 1차원 정수 배열 a, b가 매개변수로 주어집니다. a와 b의 내적을 return 하도록 solution 함수를 완성해주세요.\n",
        "\n",
        "이때, a와 b의 내적은 a[0]*b[0] + a[1]*b[1] + ... + a[n-1]*b[n-1] 입니다. (n은 a, b의 길이)\n",
        "\n",
        "제한사항 : \n",
        "a, b의 길이는 1 이상 1,000 이하입니다.\n",
        "a, b의 모든 수는 -1,000 이상 1,000 이하입니다."
      ],
      "metadata": {
        "id": "Ka8jWCn_Wjs0"
      }
    },
    {
      "cell_type": "code",
      "source": [
        "def solution(a, b):\n",
        "    sum = 0\n",
        "    for i in range(len(a)):\n",
        "        sum += a[i]*b[i]\n",
        "    return sum"
      ],
      "metadata": {
        "id": "DgBrEKIdWkgi"
      },
      "execution_count": null,
      "outputs": []
    },
    {
      "cell_type": "markdown",
      "source": [
        "Description : \n",
        "문자열 s에 나타나는 문자를 큰것부터 작은 순으로 정렬해 새로운 문자열을 리턴하는 함수, solution을 완성해주세요.\n",
        "s는 영문 대소문자로만 구성되어 있으며, 대문자는 소문자보다 작은 것으로 간주합니다.\n",
        "\n",
        "제한 사항 : \n",
        "str은 길이 1 이상인 문자열입니다."
      ],
      "metadata": {
        "id": "aAfHc3SVWlwx"
      }
    },
    {
      "cell_type": "code",
      "source": [
        "def solution(s):\n",
        "    return (''.join(sorted(s,reverse=True)))"
      ],
      "metadata": {
        "id": "MwYhlzWDWoYq"
      },
      "execution_count": null,
      "outputs": []
    },
    {
      "cell_type": "markdown",
      "source": [
        "Description : \n",
        "문자열 s의 길이가 4 혹은 6이고, 숫자로만 구성돼있는지 확인해주는 함수, solution을 완성하세요. 예를 들어 s가 \"a234\"이면 False를 리턴하고 \"1234\"라면 True를 리턴하면 됩니다.\n",
        "\n",
        "제한 사항 : \n",
        "s는 길이 1 이상, 길이 8 이하인 문자열입니다.\n",
        "s는 영문 알파벳 대소문자 또는 0부터 9까지 숫자로 이루어져 있습니다.\n"
      ],
      "metadata": {
        "id": "BaocU_ltXkxE"
      }
    },
    {
      "cell_type": "code",
      "source": [
        "def solution(s):\n",
        "    return len(s) in (4,6) and s.isdigit()\n",
        "        "
      ],
      "metadata": {
        "id": "CXpIA468Xl8v"
      },
      "execution_count": null,
      "outputs": []
    },
    {
      "cell_type": "markdown",
      "source": [
        "Description : \n",
        "두 정수 left와 right가 매개변수로 주어집니다. left부터 right까지의 모든 수들 중에서, 약수의 개수가 짝수인 수는 더하고, 약수의 개수가 홀수인 수는 뺀 수를 return 하도록 solution 함수를 완성해주세요.\n",
        "\n",
        "제한사항 : \n",
        "1 ≤ left ≤ right ≤ 1,000"
      ],
      "metadata": {
        "id": "Tz3SqiCGXmiq"
      }
    },
    {
      "cell_type": "code",
      "source": [
        "def solution(left, right):\n",
        "    result = 0\n",
        "    newList = list(range(left, right+1))\n",
        "    for i in range(0, len(newList)):\n",
        "        div = []\n",
        "        for j in range(1, newList[i]+1):\n",
        "            if newList[i] % j == 0:\n",
        "                div.append(j)\n",
        "        if len(div) % 2 == 0:\n",
        "          result += newList[i]\n",
        "        else:\n",
        "          result -= newList[i]\n",
        "    return result"
      ],
      "metadata": {
        "id": "M2Q59hYhXpWv"
      },
      "execution_count": null,
      "outputs": []
    },
    {
      "cell_type": "markdown",
      "source": [
        "Description : \n",
        "행렬의 덧셈은 행과 열의 크기가 같은 두 행렬의 같은 행, 같은 열의 값을 서로 더한 결과가 됩니다. 2개의 행렬 arr1과 arr2를 입력받아, 행렬 덧셈의 결과를 반환하는 함수, solution을 완성해주세요.\n",
        "\n",
        "제한 조건 : \n",
        "행렬 arr1, arr2의 행과 열의 길이는 500을 넘지 않습니다."
      ],
      "metadata": {
        "id": "ghq9I2TtXqqa"
      }
    },
    {
      "cell_type": "code",
      "source": [
        "def solution(arr1, arr2):\n",
        "    result = [[x+y for x, y in zip(a,b)] for a,b in zip(arr1, arr2)]\n",
        "    return result"
      ],
      "metadata": {
        "id": "nB0_vuTrXvMk"
      },
      "execution_count": null,
      "outputs": []
    },
    {
      "cell_type": "markdown",
      "source": [
        "Description : \n",
        "This new ride at an amusement park is very popular and runs nonstop. The original fee of this ride is price, but it is determined that when using the ride for the Nth time, the fee will increase as N times of the original fee. That is, if the original fee is 100, it will be 200 for the second time, and 300 for the third time.\n",
        "Write a function solution to return the insufficient money when the ride is used count times.\n",
        "However, return 0 when the owed amount is sufficient.\n",
        "\n",
        "Constraints : \n",
        "Fee of ride price : natural number less than 2,500.\n",
        "The initial owned amount money : natural number less than 1,000,000,000.\n",
        "The number of rides count : natural number less than 2,500."
      ],
      "metadata": {
        "id": "wlzOUCA3Xz4x"
      }
    },
    {
      "cell_type": "code",
      "source": [
        "def solution(price, money, count):\n",
        "    price_sum = 0\n",
        "    for i in range(1, count+1):\n",
        "        price_sum += price*i\n",
        "    if price_sum >= money:\n",
        "        result = price_sum - money\n",
        "    else:\n",
        "        result = 0\n",
        "    return result"
      ],
      "metadata": {
        "id": "Tim4GjrRX4SW"
      },
      "execution_count": null,
      "outputs": []
    },
    {
      "cell_type": "markdown",
      "source": [
        "Description : \n",
        "※ Use Standrad input and output to solve this challenge\n",
        "\n",
        "Print a n by m grid of asterisks.\n",
        "\n",
        "Constrratins : \n",
        "The first line contains 2-separated integers, n and m.\n",
        "\n",
        "1 ≤ n, m ≤ 1,000"
      ],
      "metadata": {
        "id": "0TbHclV4X5Uf"
      }
    },
    {
      "cell_type": "code",
      "source": [
        "a,b = list(map(int, input().split(' ')))\n",
        "\n",
        "for i in range(0, b):\n",
        "    print('*' * a)"
      ],
      "metadata": {
        "id": "pf-kf76aX8r6"
      },
      "execution_count": null,
      "outputs": []
    },
    {
      "cell_type": "markdown",
      "source": [
        "Description : \n",
        "두 수를 입력받아 두 수의 최대공약수와 최소공배수를 반환하는 함수, solution을 완성해 보세요. 배열의 맨 앞에 최대공약수, 그다음 최소공배수를 넣어 반환하면 됩니다. 예를 들어 두 수 3, 12의 최대공약수는 3, 최소공배수는 12이므로 solution(3, 12)는 [3, 12]를 반환해야 합니다.\n",
        "\n",
        "제한 사항 : \n",
        "두 수는 1이상 1000000이하의 자연수입니다."
      ],
      "metadata": {
        "id": "TvJ5CR-cX-d3"
      }
    },
    {
      "cell_type": "code",
      "source": [
        "def solution(n, m):\n",
        "    newList = []\n",
        "    for i in range(min(n,m), 0, -1): #2,3,4,5\n",
        "        if (n % i == 0) and (m % i == 0):\n",
        "            newList.append(i)\n",
        "            break\n",
        "\n",
        "    for j in range(min(n,m), (n*m)+1):\n",
        "        if (j % n == 0) and (j % m == 0):\n",
        "            newList.append(j)\n",
        "            break\n",
        "    return newList"
      ],
      "metadata": {
        "id": "mWD4nZ8VYBd5"
      },
      "execution_count": null,
      "outputs": []
    },
    {
      "cell_type": "markdown",
      "source": [
        "Description : \n",
        "An array arr is given. Each element of arr is a number between 0 through 9. You want to remove all the duplicate numbers in the array arr except for only one. However, the order of each element in the array arr should be maintained. For example,\n",
        "\n",
        "When arr = [1, 1, 3, 3, 0, 1, 1], return [1, 3, 0, 1].\n",
        "When arr = [4, 4, 4, 3, 3], return [4, 3].\n",
        "Write a function solution to return the remaining numbers after removing the duplicate numbers in the array arr except only one.\n",
        "\n",
        "Constraints : \n",
        "Length of array arr : natural number less than or equal to 1,000,000.\n",
        "Element of array arr : integer between 0 and 9.\n"
      ],
      "metadata": {
        "id": "q_rneM4XYC_8"
      }
    },
    {
      "cell_type": "code",
      "source": [
        "def solution(arr):\n",
        "    answer = []\n",
        "    answer.append(arr[0])\n",
        "    for i in range(1,len(arr)):\n",
        "        if arr[i] != arr[i-1]:\n",
        "            answer.append(arr[i])\n",
        "    return answer"
      ],
      "metadata": {
        "id": "0iZS1gD1YF2J"
      },
      "execution_count": null,
      "outputs": []
    },
    {
      "cell_type": "markdown",
      "source": [
        "Description : \n",
        "문자열 s는 한 개 이상의 단어로 구성되어 있습니다. 각 단어는 하나 이상의 공백문자로 구분되어 있습니다. 각 단어의 짝수번째 알파벳은 대문자로, 홀수번째 알파벳은 소문자로 바꾼 문자열을 리턴하는 함수, solution을 완성하세요.\n",
        "\n",
        "제한 사항 : \n",
        "문자열 전체의 짝/홀수 인덱스가 아니라, 단어(공백을 기준)별로 짝/홀수 인덱스를 판단해야합니다.\n",
        "첫 번째 글자는 0번째 인덱스로 보아 짝수번째 알파벳으로 처리해야 합니다."
      ],
      "metadata": {
        "id": "qKmZxxhvYG4i"
      }
    },
    {
      "cell_type": "code",
      "source": [
        "def solution(s):\n",
        "  result = []\n",
        "  words = s.split(' ')\n",
        "  for word in words:\n",
        "    temp = ''\n",
        "    for i in range(len(word)):\n",
        "      if i % 2:\n",
        "        temp += word[i].lower()\n",
        "      else:\n",
        "        temp += word[i].upper()\n",
        "    result.append(temp)\n",
        "  return ' '.join(result)"
      ],
      "metadata": {
        "id": "ZIrhhc84YPvi"
      },
      "execution_count": null,
      "outputs": []
    },
    {
      "cell_type": "markdown",
      "source": [
        "Description :\n",
        "자연수 n이 매개변수로 주어집니다. n을 3진법 상에서 앞뒤로 뒤집은 후, 이를 다시 10진법으로 표현한 수를 return 하도록 solution 함수를 완성해주세요.\n",
        "\n",
        "제한사항 :\n",
        "n은 1 이상 100,000,000 이하인 자연수입니다."
      ],
      "metadata": {
        "id": "UV3NQ-ylxgC3"
      }
    },
    {
      "cell_type": "code",
      "source": [
        "n = int(input())\n",
        "\n",
        "def solution(n):\n",
        "    answer = ''\n",
        "\n",
        "    while n >= 1:\n",
        "        n, b = divmod(n, 3)\n",
        "        answer += str(b)\n",
        "\n",
        "    answer = int(answer, 3)\n",
        "\n",
        "    return answer\n",
        "\n",
        "solution(n)\n",
        "\n"
      ],
      "metadata": {
        "colab": {
          "base_uri": "https://localhost:8080/"
        },
        "id": "aqgxOtM1xiab",
        "outputId": "fa9711c6-2031-480e-cbe8-c5efecd2bf4f"
      },
      "execution_count": null,
      "outputs": [
        {
          "name": "stdout",
          "output_type": "stream",
          "text": [
            "45\n"
          ]
        },
        {
          "output_type": "execute_result",
          "data": {
            "text/plain": [
              "7"
            ]
          },
          "metadata": {},
          "execution_count": 8
        }
      ]
    },
    {
      "cell_type": "markdown",
      "source": [
        "Description : \n",
        "S company investigated the amount of money required to purchase items by the department to provide the necessary supplies for each department. But, buying all items is impossible due to the limit of the budget. Hence, the company tries to purchase items for as many departments as possible.\n",
        "\n",
        "When buying items, the whole amount of money requested by the department should be provided. For example, for the department who requested 1,000 , the exact 1,000 should be provided, and less than 1,000 cannot be provided.\n",
        "\n",
        "Given an array of requested money d and budget budget as a parameter, write a function solution to return the maximum number of departments that can be supplied.\n",
        "\n",
        "Constraints : \n",
        "d is an array of money requested by each department, and its length (the number of all departments) is between 1 and 100.\n",
        "Each element of d indicates money requested by each department, and requested money is a natural number less than 100,000.\n",
        "budget represents the budget and is a natural number less than 10,000,000."
      ],
      "metadata": {
        "id": "Sk1F2sMf5w-h"
      }
    },
    {
      "cell_type": "code",
      "source": [
        "d = list(map(int, input().split(' ')))\n",
        "budget = int(input())\n",
        "\n",
        "def solution(d, budget):\n",
        "    d.sort()\n",
        "    while sum(d) > budget:\n",
        "      d.pop()\n",
        "    return len(d)\n",
        "\n",
        "solution(d, budget)\n",
        "\n"
      ],
      "metadata": {
        "colab": {
          "base_uri": "https://localhost:8080/"
        },
        "id": "agrqzXK3yGHa",
        "outputId": "d45468cc-e127-4d9f-d982-31236f2cb24d"
      },
      "execution_count": null,
      "outputs": [
        {
          "name": "stdout",
          "output_type": "stream",
          "text": [
            "1 3 2 5 4\n",
            "9\n"
          ]
        },
        {
          "output_type": "execute_result",
          "data": {
            "text/plain": [
              "3"
            ]
          },
          "metadata": {},
          "execution_count": 3
        }
      ]
    },
    {
      "cell_type": "markdown",
      "source": [
        "Description :\n",
        "어떤 문장의 각 알파벳을 일정한 거리만큼 밀어서 다른 알파벳으로 바꾸는 암호화 방식을 시저 암호라고 합니다. 예를 들어 \"AB\"는 1만큼 밀면 \"BC\"가 되고, 3만큼 밀면 \"DE\"가 됩니다. \"z\"는 1만큼 밀면 \"a\"가 됩니다. 문자열 s와 거리 n을 입력받아 s를 n만큼 민 암호문을 만드는 함수, solution을 완성해 보세요.\n",
        "\n",
        "제한 조건 :\n",
        "공백은 아무리 밀어도 공백입니다.\n",
        "s는 알파벳 소문자, 대문자, 공백으로만 이루어져 있습니다.\n",
        "s의 길이는 8000이하입니다.\n",
        "n은 1 이상, 25이하인 자연수입니다."
      ],
      "metadata": {
        "id": "OnFQTTWSDLTm"
      }
    },
    {
      "cell_type": "code",
      "source": [
        "s = list(str(input()))\n",
        "n = int(input())\n",
        "\n",
        "def solution(s, n):\n",
        "  alpha_upper = \"ABCDEFGHIJKLMNOPQRSTUVWXYZ\"\n",
        "  alpha_lower = \"abcdefghijklmnopqrstuvwxyz\"\n",
        "  answer = []\n",
        "  for i in s:\n",
        "    if i == '':\n",
        "      answer.append(' ')\n",
        "    elif i.isupper():\n",
        "      index = alpha_upper.find(i)\n",
        "      answer.append(alpha_upper[index+2 % 26])\n",
        "    elif i.islower():\n",
        "      index = alpha_lower.find(i)\n",
        "      answer.append(alpha_lower[index+2 % 26])\n",
        "  return ''.join(answer)\n",
        "\n",
        "solution(s, n)\n"
      ],
      "metadata": {
        "colab": {
          "base_uri": "https://localhost:8080/"
        },
        "id": "AqyNcatNDNRo",
        "outputId": "01bb672b-5eae-4587-896c-4012c505bab2"
      },
      "execution_count": null,
      "outputs": [
        {
          "name": "stdout",
          "output_type": "stream",
          "text": [
            "abcDe\n",
            "3\n"
          ]
        },
        {
          "output_type": "execute_result",
          "data": {
            "text/plain": [
              "'cdeFg'"
            ]
          },
          "metadata": {},
          "execution_count": 8
        }
      ]
    },
    {
      "cell_type": "markdown",
      "source": [
        "Description :\n",
        "비밀지도/\n",
        "네오는 평소 프로도가 비상금을 숨겨놓는 장소를 알려줄 비밀지도를 손에 넣었다. 그런데 이 비밀지도는 숫자로 암호화되어 있어 위치를 확인하기 위해서는 암호를 해독해야 한다. 다행히 지도 암호를 해독할 방법을 적어놓은 메모도 함께 발견했다.\n",
        "\n",
        "지도는 한 변의 길이가 n인 정사각형 배열 형태로, 각 칸은 \"공백\"(\" \") 또는 \"벽\"(\"#\") 두 종류로 이루어져 있다.\n",
        "전체 지도는 두 장의 지도를 겹쳐서 얻을 수 있다. 각각 \"지도 1\"과 \"지도 2\"라고 하자. 지도 1 또는 지도 2 중 어느 하나라도 벽인 부분은 전체 지도에서도 벽이다. 지도 1과 지도 2에서 모두 공백인 부분은 전체 지도에서도 공백이다.\n",
        "\"지도 1\"과 \"지도 2\"는 각각 정수 배열로 암호화되어 있다.\n",
        "암호화된 배열은 지도의 각 가로줄에서 벽 부분을 1, 공백 부분을 0으로 부호화했을 때 얻어지는 이진수에 해당하는 값의 배열이다.\n",
        "\n",
        "입력 형식 : \n",
        "입력으로 지도의 한 변 크기 n 과 2개의 정수 배열 arr1, arr2가 들어온다.\n",
        "\n",
        "1 ≦ n ≦ 16\n",
        "arr1, arr2는 길이 n인 정수 배열로 주어진다.\n",
        "정수 배열의 각 원소 x를 이진수로 변환했을 때의 길이는 n 이하이다. 즉, 0 ≦ x ≦ 2n - 1을 만족한다.\n",
        "출력 형식 :\n",
        "원래의 비밀지도를 해독하여 '#', 공백으로 구성된 문자열 배열로 출력하라."
      ],
      "metadata": {
        "id": "BOUGrKxuPbNm"
      }
    },
    {
      "cell_type": "code",
      "source": [
        "n = int(input())\n",
        "arr1, arr2 = list(map(int, input().split(' ')))\n",
        "\n",
        "def solution(n, arr1, arr2):\n",
        "    result = []\n",
        "    \n",
        "    for item1, item2 in zip(arr1, arr2):\n",
        "        result.append(bin(item1 | item2)[2:].zfill(n))\n",
        "\n",
        "    for i in range(len(result)):\n",
        "        result[i] = result[i].replace('1','#').replace('0',' ')\n",
        "        \n",
        "    return result"
      ],
      "metadata": {
        "colab": {
          "base_uri": "https://localhost:8080/"
        },
        "id": "sl-09ABsPbdN",
        "outputId": "7ed82429-204d-463e-8253-774cbbb885d1"
      },
      "execution_count": null,
      "outputs": [
        {
          "output_type": "stream",
          "name": "stdout",
          "text": [
            "['111111', '111001', '110011', '11110', '11111', '111010']\n",
            "['######', '###  #', '##  ##', '#### ', '#####', '### # ']\n"
          ]
        }
      ]
    },
    {
      "cell_type": "markdown",
      "source": [
        "Description\n",
        "명함 지갑을 만드는 회사에서 지갑의 크기를 정하려고 합니다. 다양한 모양과 크기의 명함들을 모두 수납할 수 있으면서, 작아서 들고 다니기 편한 지갑을 만들어야 합니다. 이러한 요건을 만족하는 지갑을 만들기 위해 디자인팀은 모든 명함의 가로 길이와 세로 길이를 조사했습니다.\n",
        "\n",
        "아래 표는 4가지 명함의 가로 길이와 세로 길이를 나타냅니다.\n",
        "\n",
        "명함 번호\t가로 길이\t세로 길이\n",
        "1\t60\t50\n",
        "2\t30\t70\n",
        "3\t60\t30\n",
        "4\t80\t40\n",
        "가장 긴 가로 길이와 세로 길이가 각각 80, 70이기 때문에 80(가로) x 70(세로) 크기의 지갑을 만들면 모든 명함들을 수납할 수 있습니다. 하지만 2번 명함을 가로로 눕혀 수납한다면 80(가로) x 50(세로) 크기의 지갑으로 모든 명함들을 수납할 수 있습니다. 이때의 지갑 크기는 4000(=80 x 50)입니다.\n",
        "\n",
        "모든 명함의 가로 길이와 세로 길이를 나타내는 2차원 배열 sizes가 매개변수로 주어집니다. 모든 명함을 수납할 수 있는 가장 작은 지갑을 만들 때, 지갑의 크기를 return 하도록 solution 함수를 완성해주세요."
      ],
      "metadata": {
        "id": "yxjSzaSZpkqa"
      }
    },
    {
      "cell_type": "code",
      "source": [
        "sizes= [[14, 4], [19, 6], [6, 16], [18, 7], [7, 11]]\n",
        "\n",
        "def solution(sizes):\n",
        "    newList_1, newList_2 = [], []\n",
        "    for i in sizes:\n",
        "      i.sort()\n",
        "    for size in range(len(sizes)):\n",
        "      newList_1.append(sizes[size][0])\n",
        "      newList_2.append(sizes[size][1])\n",
        "    \n",
        "    return sorted(newList_1)[-1] * sorted(newList_2)[-1]\n",
        "\n",
        "solution(sizes)"
      ],
      "metadata": {
        "colab": {
          "base_uri": "https://localhost:8080/"
        },
        "id": "9Sa86CuGplgx",
        "outputId": "99d1e2c7-fdc2-44b1-bdcb-3c3b75adef17"
      },
      "execution_count": null,
      "outputs": [
        {
          "output_type": "execute_result",
          "data": {
            "text/plain": [
              "133"
            ]
          },
          "metadata": {},
          "execution_count": 118
        }
      ]
    },
    {
      "cell_type": "markdown",
      "source": [
        "Description :\n",
        "문자열로 구성된 리스트 strings와, 정수 n이 주어졌을 때, 각 문자열의 인덱스 n번째 글자를 기준으로 오름차순 정렬하려 합니다. 예를 들어 strings가 [\"sun\", \"bed\", \"car\"]이고 n이 1이면 각 단어의 인덱스 1의 문자 \"u\", \"e\", \"a\"로 strings를 정렬합니다.\n",
        "\n",
        "제한 조건 :\n",
        "strings는 길이 1 이상, 50이하인 배열입니다.\n",
        "strings의 원소는 소문자 알파벳으로 이루어져 있습니다.\n",
        "strings의 원소는 길이 1 이상, 100이하인 문자열입니다.\n",
        "모든 strings의 원소의 길이는 n보다 큽니다.\n",
        "인덱스 1의 문자가 같은 문자열이 여럿 일 경우, 사전순으로 앞선 문자열이 앞쪽에 위치합니다.\n"
      ],
      "metadata": {
        "id": "UxYFrBl83Abb"
      }
    },
    {
      "cell_type": "code",
      "source": [
        "def solution(strings, n):\n",
        "    return sorted(strings, key = lambda x: (x[n], x))\n",
        "\n"
      ],
      "metadata": {
        "colab": {
          "base_uri": "https://localhost:8080/"
        },
        "id": "JQ5H8gUA3B46",
        "outputId": "33310485-4456-4196-f8df-9793c39a4364"
      },
      "execution_count": null,
      "outputs": [
        {
          "output_type": "stream",
          "name": "stdout",
          "text": [
            "['abcd', 'abce', 'cdx']\n"
          ]
        }
      ]
    },
    {
      "cell_type": "markdown",
      "source": [
        "Description\n",
        "두 정수 X, Y의 임의의 자리에서 공통으로 나타나는 정수 k(0 ≤ k ≤ 9)들을 이용하여 만들 수 있는 가장 큰 정수를 두 수의 짝꿍이라 합니다(단, 공통으로 나타나는 정수 중 서로 짝지을 수 있는 숫자만 사용합니다). X, Y의 짝꿍이 존재하지 않으면, 짝꿍은 -1입니다. X, Y의 짝꿍이 0으로만 구성되어 있다면, 짝꿍은 0입니다.\n",
        "\n",
        "예를 들어, X = 3403이고 Y = 13203이라면, X와 Y의 짝꿍은 X와 Y에서 공통으로 나타나는 3, 0, 3으로 만들 수 있는 가장 큰 정수인 330입니다. 다른 예시로 X = 5525이고 Y = 1255이면 X와 Y의 짝꿍은 X와 Y에서 공통으로 나타나는 2, 5, 5로 만들 수 있는 가장 큰 정수인 552입니다(X에는 5가 3개, Y에는 5가 2개 나타나므로 남는 5 한 개는 짝 지을 수 없습니다.)\n",
        "두 정수 X, Y가 주어졌을 때, X, Y의 짝꿍을 return하는 solution 함수를 완성해주세요.\n",
        "\n",
        "제한사항\n",
        "3 ≤ X, Y의 길이(자릿수) ≤ 3,000,000입니다.\n",
        "X, Y는 0으로 시작하지 않습니다.\n",
        "X, Y의 짝꿍은 상당히 큰 정수일 수 있으므로, 문자열로 반환합니다."
      ],
      "metadata": {
        "id": "8VhCoDvVBPF7"
      }
    },
    {
      "cell_type": "code",
      "source": [
        "X = \"100\"\n",
        "Y = \"203045\"\n",
        "\n",
        "def solution(X, Y):\n",
        "    answer = ''\n",
        "\n",
        "    for i in range(9,-1,-1) :\n",
        "        answer += (str(i) * min(X.count(str(i)), Y.count(str(i))))\n",
        "\n",
        "    if answer == '' :\n",
        "        return '-1'\n",
        "    elif len(answer) == answer.count('0'):\n",
        "        return '0'\n",
        "    else :\n",
        "        return answer\n",
        "\n",
        "solution(X,Y)"
      ],
      "metadata": {
        "colab": {
          "base_uri": "https://localhost:8080/",
          "height": 53
        },
        "id": "4Wvntv12BPnN",
        "outputId": "a3d3fa77-e224-4fc5-e089-1aa1560984ce"
      },
      "execution_count": 25,
      "outputs": [
        {
          "output_type": "stream",
          "name": "stdout",
          "text": [
            "['0', '0']\n"
          ]
        },
        {
          "output_type": "execute_result",
          "data": {
            "text/plain": [
              "'0'"
            ],
            "application/vnd.google.colaboratory.intrinsic+json": {
              "type": "string"
            }
          },
          "metadata": {},
          "execution_count": 25
        }
      ]
    },
    {
      "cell_type": "markdown",
      "source": [
        "Description : \n",
        "정수 배열 numbers가 주어집니다. numbers에서 서로 다른 인덱스에 있는 두 개의 수를 뽑아 더해서 만들 수 있는 모든 수를 배열에 오름차순으로 담아 return 하도록 solution 함수를 완성해주세요.\n",
        "\n",
        "제한사항 : \n",
        "numbers의 길이는 2 이상 100 이하입니다.\n",
        "numbers의 모든 수는 0 이상 100 이하입니다.\n"
      ],
      "metadata": {
        "id": "qDnKA4gSUs7C"
      }
    },
    {
      "cell_type": "code",
      "source": [
        "from posixpath import join\n",
        "numbers = list(map(int, input().split(' ')))\n",
        "\n",
        "def solution(numbers):\n",
        "    answer = []\n",
        "    for i in range(len(numbers)):\n",
        "      for j in range(1, len(numbers)):\n",
        "          answer.append(numbers[0] + numbers[j])\n",
        "      numbers.pop(0)\n",
        "\n",
        "    return sorted(list(set(answer)))\n",
        "\n",
        "solution(numbers)"
      ],
      "metadata": {
        "colab": {
          "base_uri": "https://localhost:8080/"
        },
        "id": "G1G3C0l2Utgx",
        "outputId": "e497f608-e77b-4258-f763-c1138cfc553f"
      },
      "execution_count": 26,
      "outputs": [
        {
          "name": "stdout",
          "output_type": "stream",
          "text": [
            "5 0 2 7\n"
          ]
        },
        {
          "output_type": "execute_result",
          "data": {
            "text/plain": [
              "[2, 5, 7, 9, 12]"
            ]
          },
          "metadata": {},
          "execution_count": 26
        }
      ]
    },
    {
      "cell_type": "markdown",
      "source": [
        "Description : \n",
        "점심시간에 도둑이 들어, 일부 학생이 체육복을 도난당했습니다. 다행히 여벌 체육복이 있는 학생이 이들에게 체육복을 빌려주려 합니다. 학생들의 번호는 체격 순으로 매겨져 있어, 바로 앞번호의 학생이나 바로 뒷번호의 학생에게만 체육복을 빌려줄 수 있습니다. 예를 들어, 4번 학생은 3번 학생이나 5번 학생에게만 체육복을 빌려줄 수 있습니다. 체육복이 없으면 수업을 들을 수 없기 때문에 체육복을 적절히 빌려 최대한 많은 학생이 체육수업을 들어야 합니다.\n",
        "\n",
        "전체 학생의 수 n, 체육복을 도난당한 학생들의 번호가 담긴 배열 lost, 여벌의 체육복을 가져온 학생들의 번호가 담긴 배열 reserve가 매개변수로 주어질 때, 체육수업을 들을 수 있는 학생의 최댓값을 return 하도록 solution 함수를 작성해주세요.\n",
        "\n",
        "제한사항 : \n",
        "전체 학생의 수는 2명 이상 30명 이하입니다.\n",
        "체육복을 도난당한 학생의 수는 1명 이상 n명 이하이고 중복되는 번호는 없습니다.\n",
        "여벌의 체육복을 가져온 학생의 수는 1명 이상 n명 이하이고 중복되는 번호는 없습니다.\n",
        "여벌 체육복이 있는 학생만 다른 학생에게 체육복을 빌려줄 수 있습니다.\n",
        "여벌 체육복을 가져온 학생이 체육복을 도난당했을 수 있습니다. 이때 이 학생은 체육복을 하나만 도난당했다고 가정하며, 남은 체육복이 하나이기에 다른 학생에게는 체육복을 빌려줄 수 없습니다."
      ],
      "metadata": {
        "id": "PRN6WQ01bLe-"
      }
    },
    {
      "cell_type": "code",
      "source": [
        "n = int(input())\n",
        "lost = list(map(int, input().split(' ')))\n",
        "reserve = list(map(int, input().split(' ')))\n",
        "\n",
        "def solution(n, lost, reserve):\n",
        "    student = [i for i in range(1, n+1)]\n",
        "    newList = list(set(student) - set(lost))\n",
        "    new_reserve = []\n",
        "\n",
        "    for i in range(len(reserve)):\n",
        "      if reserve[i] != n:\n",
        "        new_reserve.append(reserve[i] + 1)\n",
        "\n",
        "    return len(set(newList + new_reserve))\n",
        "\n",
        "solution(n, lost, reserve)"
      ],
      "metadata": {
        "colab": {
          "base_uri": "https://localhost:8080/"
        },
        "id": "wYzVdGKxVUib",
        "outputId": "21fa58d9-ee76-4e43-a2cd-817b46313bdb"
      },
      "execution_count": 35,
      "outputs": [
        {
          "name": "stdout",
          "output_type": "stream",
          "text": [
            "5\n",
            "2 4\n",
            "3\n"
          ]
        },
        {
          "output_type": "execute_result",
          "data": {
            "text/plain": [
              "4"
            ]
          },
          "metadata": {},
          "execution_count": 35
        }
      ]
    },
    {
      "cell_type": "code",
      "source": [
        "def solution(n, lost, reserve):\n",
        "    set_reserve = set(reserve) - set(lost)\n",
        "    set_lost = set(lost) - set(reserve)\n",
        "    \n",
        "    for i in set_reserve:\n",
        "        if i-1 in set_lost:\n",
        "            set_lost.remove(i-1)\n",
        "        elif i+1 in set_lost:\n",
        "            set_lost.remove(i+1)\n",
        "    return n-len(set_lost)"
      ],
      "metadata": {
        "colab": {
          "base_uri": "https://localhost:8080/"
        },
        "id": "mbuh9QCYdt1F",
        "outputId": "8e0b78be-2d29-400c-ddfa-52475491e565"
      },
      "execution_count": 33,
      "outputs": [
        {
          "output_type": "stream",
          "name": "stdout",
          "text": [
            "[4, 5]\n",
            "[1, 2, 3, 4, 5]\n",
            "[1, 2, 3]\n"
          ]
        }
      ]
    },
    {
      "cell_type": "markdown",
      "source": [
        "\n",
        "Description : \n",
        "수포자는 수학을 포기한 사람의 준말입니다. 수포자 삼인방은 모의고사에 수학 문제를 전부 찍으려 합니다. 수포자는 1번 문제부터 마지막 문제까지 다음과 같이 찍습니다.\n",
        "\n",
        "1번 수포자가 찍는 방식: 1, 2, 3, 4, 5, 1, 2, 3, 4, 5, ...\n",
        "2번 수포자가 찍는 방식: 2, 1, 2, 3, 2, 4, 2, 5, 2, 1, 2, 3, 2, 4, 2, 5, ...\n",
        "3번 수포자가 찍는 방식: 3, 3, 1, 1, 2, 2, 4, 4, 5, 5, 3, 3, 1, 1, 2, 2, 4, 4, 5, 5, ...\n",
        "\n",
        "1번 문제부터 마지막 문제까지의 정답이 순서대로 들은 배열 answers가 주어졌을 때, 가장 많은 문제를 맞힌 사람이 누구인지 배열에 담아 return 하도록 solution 함수를 작성해주세요.\n",
        "\n",
        "제한 조건 :m\n",
        "시험은 최대 10,000 문제로 구성되어있습니다.\n",
        "문제의 정답은 1, 2, 3, 4, 5중 하나입니다.\n",
        "가장 높은 점수를 받은 사람이 여럿일 경우, return하는 값을 오름차순 정렬해주세요."
      ],
      "metadata": {
        "id": "JvIqJ6v7kwIK"
      }
    },
    {
      "cell_type": "code",
      "source": [
        "answers= [1,3,2,4,2]\n",
        "answer, score = [] , [0,0,0]\n",
        "student_1 = [1,2,3,4,5]\n",
        "student_2 = [2,1,2,3,2,4,2,5]\n",
        "student_3 = [3,3,1,1,2,2,4,4,5,5]\n",
        "\n",
        "def solution(answers):\n",
        "  answer, score = [] , [0,0,0]\n",
        "  student_1 = [1,2,3,4,5]\n",
        "  student_2 = [2,1,2,3,2,4,2,5]\n",
        "  student_3 = [3,3,1,1,2,2,4,4,5,5]\n",
        "\n",
        "  for i in range(len(answers)):\n",
        "    if answers[i] == student_1[i%5]:\n",
        "      score[0] += 1\n",
        "    if answers[i] == student_2[i%8]:\n",
        "      score[1] += 1\n",
        "    if answers[i] == student_3[i%10]:\n",
        "      score[2] += 1\n",
        "\n",
        "  print(score)\n",
        "  for i in range(3):\n",
        "    if score[i] == max(score):\n",
        "      answer.append(i + 1)\n",
        "  return answer\n",
        "\n",
        "solution(answers)\n"
      ],
      "metadata": {
        "colab": {
          "base_uri": "https://localhost:8080/"
        },
        "id": "gXvDdOr0d3FW",
        "outputId": "3a2648da-8617-4c8f-8e44-57395ec80310"
      },
      "execution_count": 212,
      "outputs": [
        {
          "output_type": "stream",
          "name": "stdout",
          "text": [
            "[2, 2, 2]\n"
          ]
        },
        {
          "output_type": "execute_result",
          "data": {
            "text/plain": [
              "[1, 2, 3]"
            ]
          },
          "metadata": {},
          "execution_count": 212
        }
      ]
    },
    {
      "cell_type": "markdown",
      "source": [
        "Description : \n",
        "배열 array의 i번째 숫자부터 j번째 숫자까지 자르고 정렬했을 때, k번째에 있는 수를 구하려 합니다.\n",
        "\n",
        "예를 들어 array가 [1, 5, 2, 6, 3, 7, 4], i = 2, j = 5, k = 3이라면\n",
        "\n",
        "array의 2번째부터 5번째까지 자르면 [5, 2, 6, 3]입니다.\n",
        "1에서 나온 배열을 정렬하면 [2, 3, 5, 6]입니다.\n",
        "2에서 나온 배열의 3번째 숫자는 5입니다.\n",
        "배열 array, [i, j, k]를 원소로 가진 2차원 배열 commands가 매개변수로 주어질 때, commands의 모든 원소에 대해 앞서 설명한 연산을 적용했을 때 나온 결과를 배열에 담아 return 하도록 solution 함수를 작성해주세요.\n",
        "\n",
        "제한사항 : \n",
        "array의 길이는 1 이상 100 이하입니다.\n",
        "array의 각 원소는 1 이상 100 이하입니다.\n",
        "commands의 길이는 1 이상 50 이하입니다.\n",
        "commands의 각 원소는 길이가 3입니다.\n"
      ],
      "metadata": {
        "id": "N80tiYY2tD7H"
      }
    },
    {
      "cell_type": "code",
      "source": [
        "array = [1, 5, 2, 6, 3, 7, 4]\t\n",
        "commands = [[2, 5, 3], [4, 4, 1], [1, 7, 3]]\t\n",
        "#commands = [2,5,3]\n",
        "\n",
        "def solution(array, commands):\n",
        "  answer = []\n",
        "  for com in range(len(commands)):\n",
        "    newArray = []\n",
        "    for ary in range(commands[com][0]-1, commands[com][1]):\n",
        "      newArray.append(array[ary])\n",
        "      newArray.sort() #for문 안에서는 sorted()가 아닌, sort()를 쓴다.\n",
        "    a = commands[com][2] \n",
        "    answer.append(newArray[a-1])\n",
        "  return answer\n",
        "\n",
        "solution(array, commands)\n"
      ],
      "metadata": {
        "colab": {
          "base_uri": "https://localhost:8080/"
        },
        "id": "n1tWIKmitvrG",
        "outputId": "f0546778-5ebd-449a-bf27-7ceb7ebe7aa3"
      },
      "execution_count": 19,
      "outputs": [
        {
          "output_type": "execute_result",
          "data": {
            "text/plain": [
              "[5, 6, 3]"
            ]
          },
          "metadata": {},
          "execution_count": 19
        }
      ]
    },
    {
      "cell_type": "markdown",
      "source": [
        "Description : \n",
        "수많은 마라톤 선수들이 마라톤에 참여하였습니다. 단 한 명의 선수를 제외하고는 모든 선수가 마라톤을 완주하였습니다.\n",
        "\n",
        "마라톤에 참여한 선수들의 이름이 담긴 배열 participant와 완주한 선수들의 이름이 담긴 배열 completion이 주어질 때, 완주하지 못한 선수의 이름을 return 하도록 solution 함수를 작성해주세요.\n",
        "\n",
        "제한사항 : \n",
        "마라톤 경기에 참여한 선수의 수는 1명 이상 100,000명 이하입니다.\n",
        "completion의 길이는 participant의 길이보다 1 작습니다.\n",
        "참가자의 이름은 1개 이상 20개 이하의 알파벳 소문자로 이루어져 있습니다.\n",
        "참가자 중에는 동명이인이 있을 수 있습니다."
      ],
      "metadata": {
        "id": "-ZjB-sr47fjK"
      }
    },
    {
      "cell_type": "code",
      "source": [
        "participant = [\"leo\", \"kiki\", \"eden\"]\t\n",
        "completion = [\"eden\", \"kiki\"]\t\n",
        "\n",
        "def solution(participant, completion):\n",
        "    participant.sort()\n",
        "    completion.sort()\n",
        "    for p_name, c_name in zip(participant, completion):\n",
        "      if p_name != c_name:\n",
        "        return p_name\n",
        "    return participant.pop()\n",
        "\n",
        "solution(participant, completion)"
      ],
      "metadata": {
        "colab": {
          "base_uri": "https://localhost:8080/",
          "height": 35
        },
        "id": "ZlmYPm8l7kSy",
        "outputId": "69cd4a28-c48e-4359-f14f-22d268767bf0"
      },
      "execution_count": 5,
      "outputs": [
        {
          "output_type": "execute_result",
          "data": {
            "text/plain": [
              "'leo'"
            ],
            "application/vnd.google.colaboratory.intrinsic+json": {
              "type": "string"
            }
          },
          "metadata": {},
          "execution_count": 5
        }
      ]
    },
    {
      "cell_type": "markdown",
      "source": [
        "Description\n",
        "Suppose that you want to count the number of cases where a prime number is generated when adding 3 numbers among the given numbers. Given an array nums containing numbers as the parameter, write a function solution to return the number of cases where a prime number is generated when adding 3 different numbers among nums.\n",
        "\n",
        "Constraints\n",
        "Length of nums is between 3 and 50.\n",
        "Each element of nums is a natural number between 1 and 1,000, and there are no duplicate numbers."
      ],
      "metadata": {
        "id": "W5F_mQ0K8Ewi"
      }
    },
    {
      "cell_type": "code",
      "source": [
        "nums = [1,2,3,4]\n",
        "\n",
        "def solution(nums):\n",
        "  "
      ],
      "metadata": {
        "id": "qR41smx88F-I"
      },
      "execution_count": null,
      "outputs": []
    },
    {
      "cell_type": "markdown",
      "source": [
        "Description :\n",
        "1부터 입력받은 숫자 n 사이에 있는 소수의 개수를 반환하는 함수, solution을 만들어 보세요.\n",
        "\n",
        "소수는 1과 자기 자신으로만 나누어지는 수를 의미합니다.\n",
        "(1은 소수가 아닙니다.)\n",
        "\n",
        "제한 조건 :\n",
        "n은 2이상 1000000이하의 자연수입니다."
      ],
      "metadata": {
        "id": "DT1OI7HnEMo2"
      }
    },
    {
      "cell_type": "code",
      "source": [
        "# 나의 풀이 , 시간 초과\n",
        "n = int(input())\n",
        "\n",
        "def solution(n):\n",
        "    count = 0\n",
        "    for item in range(2, n+1): # 1부터 n까지의 숫자\n",
        "      for i in range(2, item): \n",
        "        if item % i == 0:\n",
        "          break\n",
        "      else:\n",
        "        count += 1\n",
        "    return count\n",
        "\n",
        "solution(n)"
      ],
      "metadata": {
        "colab": {
          "base_uri": "https://localhost:8080/"
        },
        "id": "aL1TgxjMEOQu",
        "outputId": "2f615bf1-33a6-4487-c36e-7207a3be0d43"
      },
      "execution_count": 46,
      "outputs": [
        {
          "name": "stdout",
          "output_type": "stream",
          "text": [
            "10\n"
          ]
        },
        {
          "output_type": "execute_result",
          "data": {
            "text/plain": [
              "4"
            ]
          },
          "metadata": {},
          "execution_count": 46
        }
      ]
    },
    {
      "cell_type": "code",
      "source": [
        "#모범 풀이, 에라토네스의 체 방법\n",
        "def solution(n):\n",
        "    num = set(range(2,n+1))\n",
        "    for i in range(2,n+1):\n",
        "        if i in num:\n",
        "            num -= set(range(2*i, n+1, i))\n",
        "    return len(num)"
      ],
      "metadata": {
        "colab": {
          "base_uri": "https://localhost:8080/"
        },
        "id": "_7NbMJG5KObg",
        "outputId": "db3fc452-cf77-4e8d-8d62-b47c6dafffef"
      },
      "execution_count": 27,
      "outputs": [
        {
          "name": "stdout",
          "output_type": "stream",
          "text": [
            "9\n"
          ]
        },
        {
          "output_type": "execute_result",
          "data": {
            "text/plain": [
              "False"
            ]
          },
          "metadata": {},
          "execution_count": 27
        }
      ]
    }
  ]
}